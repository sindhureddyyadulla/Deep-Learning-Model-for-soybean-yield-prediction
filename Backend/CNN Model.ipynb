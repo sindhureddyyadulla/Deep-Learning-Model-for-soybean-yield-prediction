{
 "cells": [
  {
   "cell_type": "code",
   "execution_count": 1,
   "metadata": {},
   "outputs": [],
   "source": [
    "import os\n",
    "os.environ[\"CUDA_VISIBLE_DEVICES\"]=\"-1\"    \n",
    "import tensorflow"
   ]
  },
  {
   "cell_type": "code",
   "execution_count": 2,
   "metadata": {
    "id": "f60aQrS6Qtwf"
   },
   "outputs": [
    {
     "name": "stderr",
     "output_type": "stream",
     "text": [
      "Using TensorFlow backend.\n"
     ]
    }
   ],
   "source": [
    "import keras\n",
    "import pandas as pd\n",
    "import numpy as np\n",
    "data_csv=pd.read_csv(r'C:\\Users\\HIRANMAYI\\Final year project\\dataset.csv',delimiter=',')\n",
    "\n",
    "data_npz=np.array(data_csv)"
   ]
  },
  {
   "cell_type": "code",
   "execution_count": 3,
   "metadata": {
    "id": "DFUc--FUQtwh"
   },
   "outputs": [],
   "source": [
    "from tensorflow.keras.datasets import mnist\n",
    "from tensorflow.keras.models import Sequential\n",
    "from tensorflow.keras.layers import Dense, Dropout, Flatten,Activation\n",
    "from tensorflow.keras.layers import Conv1D, MaxPooling1D"
   ]
  },
  {
   "cell_type": "code",
   "execution_count": 4,
   "metadata": {
    "colab": {
     "base_uri": "https://localhost:8080/"
    },
    "id": "_38jnC_RQtwh",
    "outputId": "4ba84e9a-63e2-43e6-ec93-6b35d4fed844"
   },
   "outputs": [
    {
     "name": "stdout",
     "output_type": "stream",
     "text": [
      "x= (25345, 394, 1)\n",
      "y= (25345, 1)\n"
     ]
    }
   ],
   "source": [
    "df=data_csv\n",
    "df_x=df.iloc[:,0:394].values.reshape(len(df),394,1)\n",
    "y=df.iloc[:,394].values.reshape(len(df),1)\n",
    "print(\"x=\",df_x.shape)\n",
    "print(\"y=\",y.shape)"
   ]
  },
  {
   "cell_type": "code",
   "execution_count": 5,
   "metadata": {
    "id": "h6Zmq0rqQtwi"
   },
   "outputs": [],
   "source": [
    "df_x=np.array(df_x)\n",
    "y=np.array(y)"
   ]
  },
  {
   "cell_type": "code",
   "execution_count": 6,
   "metadata": {
    "colab": {
     "base_uri": "https://localhost:8080/"
    },
    "id": "hv5cSNcoQtwj",
    "outputId": "8eae5dc4-6aa6-470f-c38f-ed0867c117d2"
   },
   "outputs": [
    {
     "name": "stdout",
     "output_type": "stream",
     "text": [
      "(7604, 394, 1)\n",
      "(7604, 1)\n"
     ]
    }
   ],
   "source": [
    "from sklearn.model_selection import train_test_split\n",
    "x_train, x_test, y_train, y_test = train_test_split(df_x,y,test_size=0.3, random_state=0)\n",
    "print(x_test.shape)\n",
    "print(y_test.shape)"
   ]
  },
  {
   "cell_type": "code",
   "execution_count": 7,
   "metadata": {
    "colab": {
     "base_uri": "https://localhost:8080/"
    },
    "id": "BG99YNq1Qtwj",
    "outputId": "1f184571-b9f2-44e0-c053-260489a0485f"
   },
   "outputs": [
    {
     "name": "stdout",
     "output_type": "stream",
     "text": [
      "WARNING:tensorflow:From C:\\Users\\HIRANMAYI\\anaconda3\\lib\\site-packages\\tensorflow_core\\python\\ops\\resource_variable_ops.py:1630: calling BaseResourceVariable.__init__ (from tensorflow.python.ops.resource_variable_ops) with constraint is deprecated and will be removed in a future version.\n",
      "Instructions for updating:\n",
      "If using Keras pass *_constraint arguments to layers.\n",
      "Model: \"model_conv1D\"\n",
      "_________________________________________________________________\n",
      "Layer (type)                 Output Shape              Param #   \n",
      "=================================================================\n",
      "Conv1D_1 (Conv1D)            (None, 388, 64)           512       \n",
      "_________________________________________________________________\n",
      "dropout (Dropout)            (None, 388, 64)           0         \n",
      "_________________________________________________________________\n",
      "Conv1D_2 (Conv1D)            (None, 386, 32)           6176      \n",
      "_________________________________________________________________\n",
      "Conv1D_3 (Conv1D)            (None, 385, 16)           1040      \n",
      "_________________________________________________________________\n",
      "MaxPooling1D (MaxPooling1D)  (None, 192, 16)           0         \n",
      "_________________________________________________________________\n",
      "flatten (Flatten)            (None, 3072)              0         \n",
      "_________________________________________________________________\n",
      "Dense_1 (Dense)              (None, 32)                98336     \n",
      "_________________________________________________________________\n",
      "Dense_2 (Dense)              (None, 1)                 33        \n",
      "=================================================================\n",
      "Total params: 106,097\n",
      "Trainable params: 106,097\n",
      "Non-trainable params: 0\n",
      "_________________________________________________________________\n"
     ]
    }
   ],
   "source": [
    "import tensorflow as tf \n",
    "model =Sequential(name=\"model_conv1D\")\n",
    "#model.add(Conv1D(filters=64, kernel_size=2, activation='relu', input_shape=(394,1)))\n",
    "model.add(Conv1D(filters=64, kernel_size=7, activation='relu', name=\"Conv1D_1\",input_shape=(394,1)))\n",
    "model.add(Dropout(0.5))\n",
    "model.add(Conv1D(filters=32, kernel_size=3, activation='relu', name=\"Conv1D_2\"))\n",
    "model.add(Conv1D(filters=16, kernel_size=2, activation='relu', name=\"Conv1D_3\"))\n",
    "model.add(MaxPooling1D(pool_size=2, name=\"MaxPooling1D\"))\n",
    "model.add(Flatten())\n",
    "model.add(Dense(32, activation='relu', name=\"Dense_1\"))\n",
    "model.add(Dense(1, name=\"Dense_2\"))\n",
    "#optimizer = tf.keras.optimizers.RMSprop(0.001)\n",
    "model.compile(loss='mse',optimizer='adam',metrics=['mae'])\n",
    "model.summary()"
   ]
  },
  {
   "cell_type": "code",
   "execution_count": 8,
   "metadata": {
    "colab": {
     "base_uri": "https://localhost:8080/"
    },
    "id": "lM2SR1opQtwk",
    "outputId": "8f9aaf24-81c1-463c-acbb-7111387cd35d"
   },
   "outputs": [
    {
     "name": "stdout",
     "output_type": "stream",
     "text": [
      "Train on 12418 samples, validate on 5323 samples\n",
      "Epoch 1/100\n",
      "12418/12418 [==============================] - 19s 2ms/sample - loss: 212.3768 - mean_absolute_error: 10.4623 - val_loss: 117.8660 - val_mean_absolute_error: 8.7335\n",
      "Epoch 2/100\n",
      "12418/12418 [==============================] - 19s 2ms/sample - loss: 109.3538 - mean_absolute_error: 8.3283 - val_loss: 172.1829 - val_mean_absolute_error: 11.0101\n",
      "Epoch 3/100\n",
      "12418/12418 [==============================] - 18s 1ms/sample - loss: 82.0061 - mean_absolute_error: 7.1599 - val_loss: 67.0692 - val_mean_absolute_error: 6.3810\n",
      "Epoch 4/100\n",
      "12418/12418 [==============================] - 18s 1ms/sample - loss: 68.3771 - mean_absolute_error: 6.5169 - val_loss: 64.9954 - val_mean_absolute_error: 6.4756\n",
      "Epoch 5/100\n",
      "12418/12418 [==============================] - 18s 1ms/sample - loss: 58.7602 - mean_absolute_error: 6.0328 - val_loss: 64.9671 - val_mean_absolute_error: 6.5449\n",
      "Epoch 6/100\n",
      "12418/12418 [==============================] - 19s 2ms/sample - loss: 52.9017 - mean_absolute_error: 5.7065 - val_loss: 46.5550 - val_mean_absolute_error: 5.3969\n",
      "Epoch 7/100\n",
      "12418/12418 [==============================] - 18s 1ms/sample - loss: 47.4067 - mean_absolute_error: 5.3795 - val_loss: 67.1906 - val_mean_absolute_error: 6.7876\n",
      "Epoch 8/100\n",
      "12418/12418 [==============================] - 17s 1ms/sample - loss: 44.3647 - mean_absolute_error: 5.1865 - val_loss: 45.2738 - val_mean_absolute_error: 5.3206\n",
      "Epoch 9/100\n",
      "12418/12418 [==============================] - 17s 1ms/sample - loss: 41.6426 - mean_absolute_error: 5.0295 - val_loss: 35.9833 - val_mean_absolute_error: 4.6694\n",
      "Epoch 10/100\n",
      "12418/12418 [==============================] - 17s 1ms/sample - loss: 41.0101 - mean_absolute_error: 4.9904 - val_loss: 38.5227 - val_mean_absolute_error: 4.8916\n",
      "Epoch 11/100\n",
      "12418/12418 [==============================] - 17s 1ms/sample - loss: 40.0379 - mean_absolute_error: 4.9209 - val_loss: 55.8358 - val_mean_absolute_error: 6.1091\n",
      "Epoch 12/100\n",
      "12418/12418 [==============================] - 17s 1ms/sample - loss: 38.1106 - mean_absolute_error: 4.8049 - val_loss: 48.8500 - val_mean_absolute_error: 5.6517\n",
      "Epoch 13/100\n",
      "12418/12418 [==============================] - 18s 1ms/sample - loss: 36.6999 - mean_absolute_error: 4.7003 - val_loss: 42.6556 - val_mean_absolute_error: 5.1753\n",
      "Epoch 14/100\n",
      "12418/12418 [==============================] - 20s 2ms/sample - loss: 36.7421 - mean_absolute_error: 4.7157 - val_loss: 29.2223 - val_mean_absolute_error: 4.1298\n",
      "Epoch 15/100\n",
      "12418/12418 [==============================] - 18s 1ms/sample - loss: 35.6046 - mean_absolute_error: 4.6488 - val_loss: 70.7287 - val_mean_absolute_error: 7.1205\n",
      "Epoch 16/100\n",
      "12418/12418 [==============================] - 19s 2ms/sample - loss: 34.8467 - mean_absolute_error: 4.5877 - val_loss: 44.7243 - val_mean_absolute_error: 5.4442\n",
      "Epoch 17/100\n",
      "12418/12418 [==============================] - 23s 2ms/sample - loss: 34.5527 - mean_absolute_error: 4.5937 - val_loss: 61.1891 - val_mean_absolute_error: 6.5809\n",
      "Epoch 18/100\n",
      "12418/12418 [==============================] - 22s 2ms/sample - loss: 33.6933 - mean_absolute_error: 4.4873 - val_loss: 52.2045 - val_mean_absolute_error: 5.9808\n",
      "Epoch 19/100\n",
      "12418/12418 [==============================] - 19s 2ms/sample - loss: 32.5674 - mean_absolute_error: 4.4342 - val_loss: 51.8720 - val_mean_absolute_error: 5.9292\n",
      "Epoch 20/100\n",
      "12418/12418 [==============================] - 27s 2ms/sample - loss: 32.5257 - mean_absolute_error: 4.4126 - val_loss: 46.0416 - val_mean_absolute_error: 5.5766\n",
      "Epoch 21/100\n",
      "12418/12418 [==============================] - 23s 2ms/sample - loss: 31.6561 - mean_absolute_error: 4.3750 - val_loss: 47.1649 - val_mean_absolute_error: 5.6796\n",
      "Epoch 22/100\n",
      "12418/12418 [==============================] - 27s 2ms/sample - loss: 31.6607 - mean_absolute_error: 4.3733 - val_loss: 32.0807 - val_mean_absolute_error: 4.4773\n",
      "Epoch 23/100\n",
      "12418/12418 [==============================] - 25s 2ms/sample - loss: 31.7728 - mean_absolute_error: 4.3653 - val_loss: 73.1554 - val_mean_absolute_error: 7.4041\n",
      "Epoch 24/100\n",
      "12418/12418 [==============================] - 20s 2ms/sample - loss: 31.3217 - mean_absolute_error: 4.3581 - val_loss: 30.4767 - val_mean_absolute_error: 4.3735\n",
      "Epoch 25/100\n",
      "12418/12418 [==============================] - 18s 1ms/sample - loss: 29.9351 - mean_absolute_error: 4.2488 - val_loss: 36.6298 - val_mean_absolute_error: 4.8887\n",
      "Epoch 26/100\n",
      "12418/12418 [==============================] - 22s 2ms/sample - loss: 30.2446 - mean_absolute_error: 4.2667 - val_loss: 49.3121 - val_mean_absolute_error: 5.8667\n",
      "Epoch 27/100\n",
      "12418/12418 [==============================] - 23s 2ms/sample - loss: 29.6215 - mean_absolute_error: 4.2227 - val_loss: 31.6998 - val_mean_absolute_error: 4.4599\n",
      "Epoch 28/100\n",
      "12418/12418 [==============================] - 25s 2ms/sample - loss: 28.8184 - mean_absolute_error: 4.1603 - val_loss: 26.9771 - val_mean_absolute_error: 4.0120\n",
      "Epoch 29/100\n",
      "12418/12418 [==============================] - 23s 2ms/sample - loss: 29.7187 - mean_absolute_error: 4.2270 - val_loss: 48.0876 - val_mean_absolute_error: 5.8089\n",
      "Epoch 30/100\n",
      "12418/12418 [==============================] - 20s 2ms/sample - loss: 28.8968 - mean_absolute_error: 4.1484 - val_loss: 66.6458 - val_mean_absolute_error: 7.0540\n",
      "Epoch 31/100\n",
      "12418/12418 [==============================] - 19s 2ms/sample - loss: 28.3152 - mean_absolute_error: 4.1223 - val_loss: 24.0728 - val_mean_absolute_error: 3.7430\n",
      "Epoch 32/100\n",
      "12418/12418 [==============================] - 22s 2ms/sample - loss: 27.8869 - mean_absolute_error: 4.1043 - val_loss: 29.9670 - val_mean_absolute_error: 4.3431\n",
      "Epoch 33/100\n",
      "12418/12418 [==============================] - 23s 2ms/sample - loss: 27.7732 - mean_absolute_error: 4.0945 - val_loss: 38.3405 - val_mean_absolute_error: 5.0380\n",
      "Epoch 34/100\n",
      "12418/12418 [==============================] - 18s 1ms/sample - loss: 26.8711 - mean_absolute_error: 4.0263 - val_loss: 29.6600 - val_mean_absolute_error: 4.3173\n",
      "Epoch 35/100\n",
      "12418/12418 [==============================] - 20s 2ms/sample - loss: 27.3338 - mean_absolute_error: 4.0347 - val_loss: 29.7420 - val_mean_absolute_error: 4.3357\n",
      "Epoch 36/100\n",
      "12418/12418 [==============================] - 18s 1ms/sample - loss: 26.4107 - mean_absolute_error: 3.9677 - val_loss: 51.8422 - val_mean_absolute_error: 6.0640\n",
      "Epoch 37/100\n",
      "12418/12418 [==============================] - 20s 2ms/sample - loss: 26.8862 - mean_absolute_error: 4.0078 - val_loss: 39.7910 - val_mean_absolute_error: 5.1863\n",
      "Epoch 38/100\n",
      "12418/12418 [==============================] - 18s 1ms/sample - loss: 25.9384 - mean_absolute_error: 3.9293 - val_loss: 42.2462 - val_mean_absolute_error: 5.3435\n",
      "Epoch 39/100\n",
      "12418/12418 [==============================] - 18s 1ms/sample - loss: 26.0944 - mean_absolute_error: 3.9546 - val_loss: 23.4724 - val_mean_absolute_error: 3.6764\n",
      "Epoch 40/100\n",
      "12418/12418 [==============================] - 20s 2ms/sample - loss: 25.6844 - mean_absolute_error: 3.9225 - val_loss: 24.5791 - val_mean_absolute_error: 3.8117\n",
      "Epoch 41/100\n",
      "12418/12418 [==============================] - 21s 2ms/sample - loss: 25.4905 - mean_absolute_error: 3.8955 - val_loss: 22.2959 - val_mean_absolute_error: 3.5607\n",
      "Epoch 42/100\n",
      "12418/12418 [==============================] - 21s 2ms/sample - loss: 25.2551 - mean_absolute_error: 3.8901 - val_loss: 26.3481 - val_mean_absolute_error: 3.9731\n",
      "Epoch 43/100\n",
      "12418/12418 [==============================] - 20s 2ms/sample - loss: 25.0331 - mean_absolute_error: 3.8639 - val_loss: 22.5640 - val_mean_absolute_error: 3.5781\n",
      "Epoch 44/100\n",
      "12418/12418 [==============================] - 18s 1ms/sample - loss: 24.7514 - mean_absolute_error: 3.8364 - val_loss: 23.7709 - val_mean_absolute_error: 3.7190\n",
      "Epoch 45/100\n",
      "12418/12418 [==============================] - 19s 2ms/sample - loss: 24.4214 - mean_absolute_error: 3.8247 - val_loss: 35.0560 - val_mean_absolute_error: 4.8309\n",
      "Epoch 46/100\n",
      "12418/12418 [==============================] - 18s 1ms/sample - loss: 24.6478 - mean_absolute_error: 3.8418 - val_loss: 24.7173 - val_mean_absolute_error: 3.8028\n",
      "Epoch 47/100\n",
      "12418/12418 [==============================] - 20s 2ms/sample - loss: 23.5415 - mean_absolute_error: 3.7234 - val_loss: 31.7793 - val_mean_absolute_error: 4.4726\n",
      "Epoch 48/100\n",
      "12418/12418 [==============================] - 17s 1ms/sample - loss: 24.1012 - mean_absolute_error: 3.7841 - val_loss: 25.4681 - val_mean_absolute_error: 3.8860\n",
      "Epoch 49/100\n",
      "12418/12418 [==============================] - 18s 1ms/sample - loss: 24.2091 - mean_absolute_error: 3.7890 - val_loss: 26.1965 - val_mean_absolute_error: 3.9700\n",
      "Epoch 50/100\n",
      "12418/12418 [==============================] - 21s 2ms/sample - loss: 23.7000 - mean_absolute_error: 3.7616 - val_loss: 22.8710 - val_mean_absolute_error: 3.6395\n",
      "Epoch 51/100\n",
      "12418/12418 [==============================] - 19s 2ms/sample - loss: 23.2766 - mean_absolute_error: 3.7245 - val_loss: 33.0264 - val_mean_absolute_error: 4.6455\n",
      "Epoch 52/100\n",
      "12418/12418 [==============================] - 20s 2ms/sample - loss: 23.0668 - mean_absolute_error: 3.7162 - val_loss: 25.1349 - val_mean_absolute_error: 3.8842\n",
      "Epoch 53/100\n",
      "12418/12418 [==============================] - 18s 1ms/sample - loss: 23.7409 - mean_absolute_error: 3.7688 - val_loss: 27.1845 - val_mean_absolute_error: 4.0922\n",
      "Epoch 54/100\n",
      "12418/12418 [==============================] - 19s 2ms/sample - loss: 23.3069 - mean_absolute_error: 3.7323 - val_loss: 24.3614 - val_mean_absolute_error: 3.7595\n",
      "Epoch 55/100\n",
      "12418/12418 [==============================] - 19s 2ms/sample - loss: 22.3183 - mean_absolute_error: 3.6686 - val_loss: 25.8455 - val_mean_absolute_error: 3.9539\n",
      "Epoch 56/100\n",
      "12418/12418 [==============================] - 19s 2ms/sample - loss: 22.7035 - mean_absolute_error: 3.6736 - val_loss: 23.5152 - val_mean_absolute_error: 3.7227\n",
      "Epoch 57/100\n",
      "12418/12418 [==============================] - 19s 2ms/sample - loss: 22.3931 - mean_absolute_error: 3.6359 - val_loss: 26.8370 - val_mean_absolute_error: 4.0366\n",
      "Epoch 58/100\n",
      "12418/12418 [==============================] - 19s 2ms/sample - loss: 22.5364 - mean_absolute_error: 3.6630 - val_loss: 33.4666 - val_mean_absolute_error: 4.6562\n",
      "Epoch 59/100\n",
      "12418/12418 [==============================] - 20s 2ms/sample - loss: 22.1742 - mean_absolute_error: 3.6465 - val_loss: 36.6021 - val_mean_absolute_error: 4.9340\n",
      "Epoch 60/100\n",
      "12418/12418 [==============================] - 20s 2ms/sample - loss: 22.3727 - mean_absolute_error: 3.6573 - val_loss: 23.8191 - val_mean_absolute_error: 3.7695\n",
      "Epoch 61/100\n",
      "12418/12418 [==============================] - 19s 2ms/sample - loss: 22.6823 - mean_absolute_error: 3.7183 - val_loss: 23.2942 - val_mean_absolute_error: 3.6886\n",
      "Epoch 62/100\n",
      "12418/12418 [==============================] - 21s 2ms/sample - loss: 22.5786 - mean_absolute_error: 3.6523 - val_loss: 23.6639 - val_mean_absolute_error: 3.7217\n",
      "Epoch 63/100\n",
      "12418/12418 [==============================] - 19s 2ms/sample - loss: 21.8452 - mean_absolute_error: 3.6072 - val_loss: 23.8231 - val_mean_absolute_error: 3.7640\n",
      "Epoch 64/100\n",
      "12418/12418 [==============================] - 20s 2ms/sample - loss: 22.1406 - mean_absolute_error: 3.6329 - val_loss: 23.4004 - val_mean_absolute_error: 3.7108\n",
      "Epoch 65/100\n",
      "12418/12418 [==============================] - 20s 2ms/sample - loss: 21.5979 - mean_absolute_error: 3.5792 - val_loss: 21.7719 - val_mean_absolute_error: 3.5233\n",
      "Epoch 66/100\n",
      "12418/12418 [==============================] - 19s 2ms/sample - loss: 22.4294 - mean_absolute_error: 3.6612 - val_loss: 23.1657 - val_mean_absolute_error: 3.7024\n",
      "Epoch 67/100\n",
      "12418/12418 [==============================] - 20s 2ms/sample - loss: 21.9089 - mean_absolute_error: 3.6237 - val_loss: 22.1692 - val_mean_absolute_error: 3.5918\n",
      "Epoch 68/100\n",
      "12418/12418 [==============================] - 19s 2ms/sample - loss: 21.7785 - mean_absolute_error: 3.6111 - val_loss: 23.7971 - val_mean_absolute_error: 3.7460\n",
      "Epoch 69/100\n",
      "12418/12418 [==============================] - 20s 2ms/sample - loss: 21.8866 - mean_absolute_error: 3.6157 - val_loss: 21.0621 - val_mean_absolute_error: 3.4678\n",
      "Epoch 70/100\n",
      "12418/12418 [==============================] - 19s 2ms/sample - loss: 21.4471 - mean_absolute_error: 3.5752 - val_loss: 29.8455 - val_mean_absolute_error: 4.3630\n",
      "Epoch 71/100\n",
      "12418/12418 [==============================] - 20s 2ms/sample - loss: 22.1231 - mean_absolute_error: 3.6353 - val_loss: 22.4495 - val_mean_absolute_error: 3.5604\n",
      "Epoch 72/100\n",
      "12418/12418 [==============================] - 20s 2ms/sample - loss: 21.6269 - mean_absolute_error: 3.5830 - val_loss: 21.0215 - val_mean_absolute_error: 3.4622\n",
      "Epoch 73/100\n",
      "12418/12418 [==============================] - 19s 2ms/sample - loss: 20.5190 - mean_absolute_error: 3.5132 - val_loss: 20.9734 - val_mean_absolute_error: 3.4414\n",
      "Epoch 74/100\n",
      "12418/12418 [==============================] - 20s 2ms/sample - loss: 21.1773 - mean_absolute_error: 3.5623 - val_loss: 28.2978 - val_mean_absolute_error: 4.1885\n",
      "Epoch 75/100\n",
      "12418/12418 [==============================] - 21s 2ms/sample - loss: 20.7671 - mean_absolute_error: 3.5107 - val_loss: 20.8322 - val_mean_absolute_error: 3.4119\n",
      "Epoch 76/100\n",
      "12418/12418 [==============================] - 24s 2ms/sample - loss: 20.6966 - mean_absolute_error: 3.5092 - val_loss: 22.3626 - val_mean_absolute_error: 3.6057\n",
      "Epoch 77/100\n",
      "12418/12418 [==============================] - 23s 2ms/sample - loss: 20.5111 - mean_absolute_error: 3.4911 - val_loss: 20.2365 - val_mean_absolute_error: 3.3639\n",
      "Epoch 78/100\n",
      "12418/12418 [==============================] - 19s 2ms/sample - loss: 20.7590 - mean_absolute_error: 3.5130 - val_loss: 20.3465 - val_mean_absolute_error: 3.3861\n",
      "Epoch 79/100\n",
      "12418/12418 [==============================] - 20s 2ms/sample - loss: 20.2525 - mean_absolute_error: 3.4762 - val_loss: 22.0270 - val_mean_absolute_error: 3.5632\n",
      "Epoch 80/100\n",
      "12418/12418 [==============================] - 22s 2ms/sample - loss: 20.4327 - mean_absolute_error: 3.4808 - val_loss: 27.0878 - val_mean_absolute_error: 4.1165\n",
      "Epoch 81/100\n",
      "12418/12418 [==============================] - 20s 2ms/sample - loss: 19.7618 - mean_absolute_error: 3.4167 - val_loss: 24.2550 - val_mean_absolute_error: 3.8199\n",
      "Epoch 82/100\n",
      "12418/12418 [==============================] - 21s 2ms/sample - loss: 20.2358 - mean_absolute_error: 3.4790 - val_loss: 24.5761 - val_mean_absolute_error: 3.8406\n",
      "Epoch 83/100\n",
      "12418/12418 [==============================] - 21s 2ms/sample - loss: 20.6287 - mean_absolute_error: 3.5028 - val_loss: 21.6100 - val_mean_absolute_error: 3.5252\n",
      "Epoch 84/100\n",
      "12418/12418 [==============================] - 21s 2ms/sample - loss: 20.8946 - mean_absolute_error: 3.5282 - val_loss: 32.3896 - val_mean_absolute_error: 4.6017\n",
      "Epoch 85/100\n",
      "12418/12418 [==============================] - 21s 2ms/sample - loss: 20.1729 - mean_absolute_error: 3.4639 - val_loss: 22.3377 - val_mean_absolute_error: 3.5596\n",
      "Epoch 86/100\n",
      "12418/12418 [==============================] - 20s 2ms/sample - loss: 20.2418 - mean_absolute_error: 3.4757 - val_loss: 19.3482 - val_mean_absolute_error: 3.2817\n",
      "Epoch 87/100\n",
      "12418/12418 [==============================] - 23s 2ms/sample - loss: 20.0738 - mean_absolute_error: 3.4609 - val_loss: 25.0299 - val_mean_absolute_error: 3.9317\n",
      "Epoch 88/100\n",
      "12418/12418 [==============================] - 23s 2ms/sample - loss: 19.8112 - mean_absolute_error: 3.4332 - val_loss: 20.3898 - val_mean_absolute_error: 3.4101\n",
      "Epoch 89/100\n",
      "12418/12418 [==============================] - 24s 2ms/sample - loss: 19.9459 - mean_absolute_error: 3.4399 - val_loss: 24.0329 - val_mean_absolute_error: 3.7965\n",
      "Epoch 90/100\n",
      "12418/12418 [==============================] - 23s 2ms/sample - loss: 20.2876 - mean_absolute_error: 3.4755 - val_loss: 19.8068 - val_mean_absolute_error: 3.3402\n",
      "Epoch 91/100\n",
      "12418/12418 [==============================] - 23s 2ms/sample - loss: 19.9819 - mean_absolute_error: 3.4623 - val_loss: 19.7356 - val_mean_absolute_error: 3.3193\n",
      "Epoch 92/100\n",
      "12418/12418 [==============================] - 23s 2ms/sample - loss: 19.7816 - mean_absolute_error: 3.4259 - val_loss: 20.9879 - val_mean_absolute_error: 3.4698\n",
      "Epoch 93/100\n"
     ]
    },
    {
     "name": "stdout",
     "output_type": "stream",
     "text": [
      "12418/12418 [==============================] - 24s 2ms/sample - loss: 19.6466 - mean_absolute_error: 3.4193 - val_loss: 27.0242 - val_mean_absolute_error: 4.1313\n",
      "Epoch 94/100\n",
      "12418/12418 [==============================] - 24s 2ms/sample - loss: 20.0878 - mean_absolute_error: 3.4580 - val_loss: 21.8582 - val_mean_absolute_error: 3.5575\n",
      "Epoch 95/100\n",
      "12418/12418 [==============================] - 19s 2ms/sample - loss: 19.5444 - mean_absolute_error: 3.4128 - val_loss: 20.9056 - val_mean_absolute_error: 3.4173\n",
      "Epoch 96/100\n",
      "12418/12418 [==============================] - 20s 2ms/sample - loss: 19.9002 - mean_absolute_error: 3.4446 - val_loss: 20.5024 - val_mean_absolute_error: 3.3901\n",
      "Epoch 97/100\n",
      "12418/12418 [==============================] - 19s 2ms/sample - loss: 19.7655 - mean_absolute_error: 3.4227 - val_loss: 20.1084 - val_mean_absolute_error: 3.3919\n",
      "Epoch 98/100\n",
      "12418/12418 [==============================] - 20s 2ms/sample - loss: 19.2299 - mean_absolute_error: 3.3832 - val_loss: 25.2001 - val_mean_absolute_error: 3.9201\n",
      "Epoch 99/100\n",
      "12418/12418 [==============================] - 20s 2ms/sample - loss: 19.5965 - mean_absolute_error: 3.4115 - val_loss: 23.5462 - val_mean_absolute_error: 3.7121\n",
      "Epoch 100/100\n",
      "12418/12418 [==============================] - 19s 2ms/sample - loss: 19.3832 - mean_absolute_error: 3.4003 - val_loss: 21.2851 - val_mean_absolute_error: 3.4610\n"
     ]
    }
   ],
   "source": [
    "history = model.fit(x_train, y_train, epochs=100,\n",
    "                    validation_split=0.3, verbose=1)"
   ]
  },
  {
   "cell_type": "code",
   "execution_count": 9,
   "metadata": {
    "colab": {
     "base_uri": "https://localhost:8080/"
    },
    "id": "djsKu-nZQtwk",
    "outputId": "499a1bb6-a9dc-474c-a249-72ab2882c7af"
   },
   "outputs": [
    {
     "name": "stdout",
     "output_type": "stream",
     "text": [
      "yhat= (7604, 1)\n",
      "average yield= 38.56159\n"
     ]
    }
   ],
   "source": [
    "yhat1=model.predict(x_test)\n",
    "avg_yield=np.mean(yhat1)\n",
    "print(\"yhat=\",yhat1.shape)\n",
    "print(\"average yield=\",avg_yield)"
   ]
  },
  {
   "cell_type": "code",
   "execution_count": 10,
   "metadata": {
    "colab": {
     "base_uri": "https://localhost:8080/"
    },
    "id": "OB6RbMN9Qtwk",
    "outputId": "d0a4a72e-9182-4499-8af8-60c3fe7b06ae"
   },
   "outputs": [
    {
     "name": "stdout",
     "output_type": "stream",
     "text": [
      "Test mse= 22.234937637466984\n",
      "Test rmse= 4.71539368849166\n",
      "Test mae= 3.5263401212973196\n"
     ]
    }
   ],
   "source": [
    "mse=np.mean(np.square(y_test-yhat1))\n",
    "rmse=np.sqrt(np.mean(np.square(y_test-yhat1)))\n",
    "mae=np.mean(abs(y_test-yhat1))\n",
    "print(\"Test mse=\",mse)\n",
    "print(\"Test rmse=\",rmse)\n",
    "print(\"Test mae=\",mae)\n"
   ]
  },
  {
   "cell_type": "code",
   "execution_count": 11,
   "metadata": {
    "colab": {
     "base_uri": "https://localhost:8080/"
    },
    "id": "AbfrCEWVdq_K",
    "outputId": "03aca2b3-fa52-4b5a-b98e-cbc163f96400"
   },
   "outputs": [
    {
     "name": "stdout",
     "output_type": "stream",
     "text": [
      "yhat= (17741, 1)\n"
     ]
    }
   ],
   "source": [
    "yhat2=model.predict(x_train)\n",
    "print(\"yhat=\",yhat2.shape)"
   ]
  },
  {
   "cell_type": "code",
   "execution_count": 12,
   "metadata": {
    "colab": {
     "base_uri": "https://localhost:8080/"
    },
    "id": "Agp-AVWndx1D",
    "outputId": "d747074a-7177-4259-cd28-4bb2b29d7065"
   },
   "outputs": [
    {
     "name": "stdout",
     "output_type": "stream",
     "text": [
      "train mse= 17.310353431658072\n",
      "train rmse= 4.16057128669346\n",
      "train mae= 3.1531136590164106\n"
     ]
    }
   ],
   "source": [
    "mse=np.mean(np.square(y_train-yhat2))\n",
    "rmse=np.sqrt(np.mean(np.square(y_train-yhat2)))\n",
    "mae=np.mean(abs(y_train-yhat2))\n",
    "print(\"train mse=\",mse)\n",
    "print(\"train rmse=\",rmse)\n",
    "print(\"train mae=\",mae)\n"
   ]
  },
  {
   "cell_type": "code",
   "execution_count": 13,
   "metadata": {
    "colab": {
     "base_uri": "https://localhost:8080/"
    },
    "id": "6R0PKRfvghXm",
    "outputId": "d2f6ea8b-4373-4287-aa64-09585d053cb3"
   },
   "outputs": [
    {
     "name": "stdout",
     "output_type": "stream",
     "text": [
      "17741/17741 [==============================] - 4s 227us/sample - loss: 17.3104 - mean_absolute_error: 3.1531\n",
      "train score: [17.31035344107875, 3.153116]\n",
      "7604/7604 [==============================] - 2s 207us/sample - loss: 22.2349 - mean_absolute_error: 3.5263\n",
      "test score: [22.234937639251502, 3.526341]\n"
     ]
    }
   ],
   "source": [
    "s=model.evaluate(x_train,y_train)\n",
    "print(\"train score:\",s)\n",
    "\n",
    "st=model.evaluate(x_test,y_test)\n",
    "print(\"test score:\",st)"
   ]
  },
  {
   "cell_type": "code",
   "execution_count": 14,
   "metadata": {
    "colab": {
     "base_uri": "https://localhost:8080/"
    },
    "id": "02TANtPq9JQ9",
    "outputId": "10e951f5-130d-485f-8c81-41c711c1fb96"
   },
   "outputs": [
    {
     "name": "stdout",
     "output_type": "stream",
     "text": [
      "r^2 test score: 0.8182867271121073\n",
      "r^2 train score: 0.8574864914538775\n"
     ]
    }
   ],
   "source": [
    "from sklearn.metrics import r2_score\n",
    "print(\"r^2 test score:\",r2_score(y_test,yhat1))\n",
    "print(\"r^2 train score:\",r2_score(y_train,yhat2))"
   ]
  },
  {
   "cell_type": "code",
   "execution_count": 15,
   "metadata": {},
   "outputs": [
    {
     "data": {
      "image/png": "[encoded data removed]",
      "text/plain": [
       "<Figure size 432x288 with 1 Axes>"
      ]
     },
     "metadata": {
      "needs_background": "light"
     },
     "output_type": "display_data"
    }
   ],
   "source": [
    "import matplotlib.pyplot as plt\n",
    "plt.plot(history.history['loss'])\n",
    "plt.plot(history.history['val_loss'])\n",
    "plt.title('model loss')\n",
    "plt.ylabel('loss')\n",
    "plt.xlabel('epoch')\n",
    "plt.legend(['train', 'test'], loc='upper left')\n",
    "plt.show()"
   ]
  },
  {
   "cell_type": "code",
   "execution_count": 18,
   "metadata": {},
   "outputs": [],
   "source": [
    "import pickle\n",
    "filename=\"Yield.sav\"\n",
    "pickle.dump(history.history,open(filename,'wb'))"
   ]
  },
  {
   "cell_type": "code",
   "execution_count": 19,
   "metadata": {},
   "outputs": [],
   "source": [
    "import pickle\n",
    "filename=\"CNN_Model.pkl\"\n",
    "pickle.dump(history.history,open(filename,'wb'))"
   ]
  },
  {
   "cell_type": "code",
   "execution_count": 20,
   "metadata": {},
   "outputs": [],
   "source": [
    "model.save(\"Yield.h5\")"
   ]
  },
  {
   "cell_type": "code",
   "execution_count": null,
   "metadata": {},
   "outputs": [],
   "source": []
  }
 ],
 "metadata": {
  "kernelspec": {
   "display_name": "Python 3",
   "language": "python",
   "name": "python3"
  },
  "language_info": {
   "codemirror_mode": {
    "name": "ipython",
    "version": 3
   },
   "file_extension": ".py",
   "mimetype": "text/x-python",
   "name": "python",
   "nbconvert_exporter": "python",
   "pygments_lexer": "ipython3",
   "version": "3.7.6"
  }
 },
 "nbformat": 4,
 "nbformat_minor": 4
}
