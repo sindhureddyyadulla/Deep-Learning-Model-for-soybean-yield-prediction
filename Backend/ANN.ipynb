{
 "cells": [
  {
   "cell_type": "code",
   "execution_count": 1,
   "metadata": {},
   "outputs": [
    {
     "name": "stderr",
     "output_type": "stream",
     "text": [
      "Using TensorFlow backend.\n"
     ]
    }
   ],
   "source": [
    "import keras\n",
    "import pandas as pd\n",
    "import numpy as np\n",
    "from keras.models import Sequential\n",
    "from keras.layers import Dense,Dropout, Flatten"
   ]
  },
  {
   "cell_type": "code",
   "execution_count": 2,
   "metadata": {},
   "outputs": [],
   "source": [
    "data_csv=pd.read_csv(r'C:\\Users\\HIRANMAYI\\Final year project\\dataset.csv',delimiter=',')\n",
    "data_npz=np.array(data_csv)"
   ]
  },
  {
   "cell_type": "code",
   "execution_count": 3,
   "metadata": {},
   "outputs": [
    {
     "name": "stdout",
     "output_type": "stream",
     "text": [
      "x= (25345, 394)\n",
      "y= (25345, 1)\n"
     ]
    }
   ],
   "source": [
    "df=data_csv\n",
    "df_x=df.iloc[:,0:394]\n",
    "y=df.iloc[:,394].values.reshape(len(df),1)\n",
    "print(\"x=\",df_x.shape)\n",
    "print(\"y=\",y.shape)"
   ]
  },
  {
   "cell_type": "code",
   "execution_count": 4,
   "metadata": {},
   "outputs": [
    {
     "name": "stdout",
     "output_type": "stream",
     "text": [
      "(7604, 394)\n",
      "(7604, 1)\n"
     ]
    }
   ],
   "source": [
    "from sklearn.model_selection import train_test_split\n",
    "x_train, x_test, y_train, y_test = train_test_split(df_x,y,test_size=0.3, random_state=0)\n",
    "print(x_test.shape)\n",
    "print(y_test.shape)"
   ]
  },
  {
   "cell_type": "code",
   "execution_count": 5,
   "metadata": {},
   "outputs": [],
   "source": [
    "#from sklearn.preprocessing import StandardScaler\n",
    "#s=StandardScaler()\n",
    "#s.fit(x_train)"
   ]
  },
  {
   "cell_type": "code",
   "execution_count": 6,
   "metadata": {},
   "outputs": [],
   "source": [
    "#x_train_scaled=s.transform(x_train)\n",
    "#x_test_scaled=s.transform(x_test)"
   ]
  },
  {
   "cell_type": "code",
   "execution_count": 7,
   "metadata": {},
   "outputs": [
    {
     "name": "stdout",
     "output_type": "stream",
     "text": [
      "WARNING:tensorflow:From C:\\Users\\HIRANMAYI\\anaconda3\\lib\\site-packages\\tensorflow_core\\python\\ops\\resource_variable_ops.py:1630: calling BaseResourceVariable.__init__ (from tensorflow.python.ops.resource_variable_ops) with constraint is deprecated and will be removed in a future version.\n",
      "Instructions for updating:\n",
      "If using Keras pass *_constraint arguments to layers.\n"
     ]
    }
   ],
   "source": [
    "model=Sequential()\n",
    "model.add(Dense(128,input_dim=394,activation='relu'))\n",
    "model.add(Dense(64,activation='relu'))\n",
    "model.add(Dense(1,activation='linear'))"
   ]
  },
  {
   "cell_type": "code",
   "execution_count": 8,
   "metadata": {},
   "outputs": [
    {
     "name": "stdout",
     "output_type": "stream",
     "text": [
      "Model: \"sequential_1\"\n",
      "_________________________________________________________________\n",
      "Layer (type)                 Output Shape              Param #   \n",
      "=================================================================\n",
      "dense_1 (Dense)              (None, 128)               50560     \n",
      "_________________________________________________________________\n",
      "dense_2 (Dense)              (None, 64)                8256      \n",
      "_________________________________________________________________\n",
      "dense_3 (Dense)              (None, 1)                 65        \n",
      "=================================================================\n",
      "Total params: 58,881\n",
      "Trainable params: 58,881\n",
      "Non-trainable params: 0\n",
      "_________________________________________________________________\n"
     ]
    }
   ],
   "source": [
    "#keras.optimizers.Adam(lr=0.0003)\n",
    "model.compile(loss='mse',optimizer='adam',metrics=['mae'])\n",
    "model.summary()"
   ]
  },
  {
   "cell_type": "code",
   "execution_count": 9,
   "metadata": {},
   "outputs": [
    {
     "name": "stdout",
     "output_type": "stream",
     "text": [
      "WARNING:tensorflow:From C:\\Users\\HIRANMAYI\\anaconda3\\lib\\site-packages\\keras\\backend\\tensorflow_backend.py:422: The name tf.global_variables is deprecated. Please use tf.compat.v1.global_variables instead.\n",
      "\n",
      "Train on 12418 samples, validate on 5323 samples\n",
      "Epoch 1/100\n",
      "12418/12418 [==============================] - 1s 80us/step - loss: 5342.0989 - mae: 30.4978 - val_loss: 265.6155 - val_mae: 12.8449\n",
      "Epoch 2/100\n",
      "12418/12418 [==============================] - 1s 66us/step - loss: 221.0566 - mae: 11.6949 - val_loss: 142.2394 - val_mae: 9.4146\n",
      "Epoch 3/100\n",
      "12418/12418 [==============================] - 1s 62us/step - loss: 129.1223 - mae: 8.9712 - val_loss: 112.0868 - val_mae: 8.4689\n",
      "Epoch 4/100\n",
      "12418/12418 [==============================] - 1s 66us/step - loss: 97.5770 - mae: 7.7434 - val_loss: 76.2727 - val_mae: 6.8408\n",
      "Epoch 5/100\n",
      "12418/12418 [==============================] - 1s 65us/step - loss: 97.9123 - mae: 7.8163 - val_loss: 66.8865 - val_mae: 6.3475\n",
      "Epoch 6/100\n",
      "12418/12418 [==============================] - 1s 64us/step - loss: 85.7339 - mae: 7.3502 - val_loss: 110.2609 - val_mae: 8.7244\n",
      "Epoch 7/100\n",
      "12418/12418 [==============================] - 1s 66us/step - loss: 79.7323 - mae: 7.0899 - val_loss: 79.6253 - val_mae: 7.2351\n",
      "Epoch 8/100\n",
      "12418/12418 [==============================] - 1s 64us/step - loss: 69.8484 - mae: 6.5994 - val_loss: 63.6344 - val_mae: 6.2147\n",
      "Epoch 9/100\n",
      "12418/12418 [==============================] - 1s 63us/step - loss: 75.5704 - mae: 6.8229 - val_loss: 56.3242 - val_mae: 5.9823\n",
      "Epoch 10/100\n",
      "12418/12418 [==============================] - 1s 65us/step - loss: 69.0962 - mae: 6.5827 - val_loss: 45.2757 - val_mae: 5.2084\n",
      "Epoch 11/100\n",
      "12418/12418 [==============================] - 1s 66us/step - loss: 69.5060 - mae: 6.6332 - val_loss: 114.5364 - val_mae: 9.2225\n",
      "Epoch 12/100\n",
      "12418/12418 [==============================] - 1s 65us/step - loss: 65.7882 - mae: 6.4193 - val_loss: 41.2711 - val_mae: 4.9684\n",
      "Epoch 13/100\n",
      "12418/12418 [==============================] - 1s 66us/step - loss: 61.6307 - mae: 6.1999 - val_loss: 122.7124 - val_mae: 9.2651\n",
      "Epoch 14/100\n",
      "12418/12418 [==============================] - 1s 64us/step - loss: 56.9356 - mae: 5.9469 - val_loss: 53.7826 - val_mae: 5.8664\n",
      "Epoch 15/100\n",
      "12418/12418 [==============================] - 1s 61us/step - loss: 57.0667 - mae: 5.9479 - val_loss: 74.0206 - val_mae: 7.1133\n",
      "Epoch 16/100\n",
      "12418/12418 [==============================] - 1s 67us/step - loss: 56.4793 - mae: 5.8970 - val_loss: 54.5549 - val_mae: 5.8357\n",
      "Epoch 17/100\n",
      "12418/12418 [==============================] - 1s 65us/step - loss: 49.0283 - mae: 5.4541 - val_loss: 174.6233 - val_mae: 11.9613\n",
      "Epoch 18/100\n",
      "12418/12418 [==============================] - 1s 63us/step - loss: 53.1584 - mae: 5.7257 - val_loss: 82.9732 - val_mae: 7.6148\n",
      "Epoch 19/100\n",
      "12418/12418 [==============================] - 1s 66us/step - loss: 48.7044 - mae: 5.4466 - val_loss: 112.6976 - val_mae: 9.2210\n",
      "Epoch 20/100\n",
      "12418/12418 [==============================] - 1s 69us/step - loss: 50.2547 - mae: 5.5511 - val_loss: 87.8236 - val_mae: 7.9102\n",
      "Epoch 21/100\n",
      "12418/12418 [==============================] - 1s 118us/step - loss: 48.1750 - mae: 5.4214 - val_loss: 42.4948 - val_mae: 5.0198\n",
      "Epoch 22/100\n",
      "12418/12418 [==============================] - 1s 109us/step - loss: 46.9359 - mae: 5.3373 - val_loss: 44.6473 - val_mae: 5.2235\n",
      "Epoch 23/100\n",
      "12418/12418 [==============================] - 1s 88us/step - loss: 49.5764 - mae: 5.5138 - val_loss: 63.2943 - val_mae: 6.2795\n",
      "Epoch 24/100\n",
      "12418/12418 [==============================] - 1s 92us/step - loss: 43.4911 - mae: 5.1143 - val_loss: 34.8694 - val_mae: 4.5602\n",
      "Epoch 25/100\n",
      "12418/12418 [==============================] - 1s 101us/step - loss: 45.7744 - mae: 5.2900 - val_loss: 41.3542 - val_mae: 5.0314\n",
      "Epoch 26/100\n",
      "12418/12418 [==============================] - 1s 94us/step - loss: 43.7344 - mae: 5.1430 - val_loss: 43.8914 - val_mae: 5.2716\n",
      "Epoch 27/100\n",
      "12418/12418 [==============================] - 1s 101us/step - loss: 43.3660 - mae: 5.1458 - val_loss: 104.4320 - val_mae: 8.5769\n",
      "Epoch 28/100\n",
      "12418/12418 [==============================] - 1s 98us/step - loss: 50.0374 - mae: 5.5274 - val_loss: 34.3656 - val_mae: 4.5147\n",
      "Epoch 29/100\n",
      "12418/12418 [==============================] - 1s 102us/step - loss: 43.1528 - mae: 5.1171 - val_loss: 104.6273 - val_mae: 8.6753\n",
      "Epoch 30/100\n",
      "12418/12418 [==============================] - 1s 96us/step - loss: 41.6192 - mae: 5.0004 - val_loss: 46.2808 - val_mae: 5.4426\n",
      "Epoch 31/100\n",
      "12418/12418 [==============================] - 1s 67us/step - loss: 39.7235 - mae: 4.9102 - val_loss: 43.6235 - val_mae: 5.1986\n",
      "Epoch 32/100\n",
      "12418/12418 [==============================] - 1s 74us/step - loss: 41.0236 - mae: 4.9735 - val_loss: 51.6864 - val_mae: 5.7802\n",
      "Epoch 33/100\n",
      "12418/12418 [==============================] - 1s 74us/step - loss: 40.4458 - mae: 4.9508 - val_loss: 95.5522 - val_mae: 8.4002\n",
      "Epoch 34/100\n",
      "12418/12418 [==============================] - 1s 75us/step - loss: 38.8100 - mae: 4.8254 - val_loss: 48.7838 - val_mae: 5.5644\n",
      "Epoch 35/100\n",
      "12418/12418 [==============================] - 1s 74us/step - loss: 42.7614 - mae: 5.0718 - val_loss: 48.1670 - val_mae: 5.6216\n",
      "Epoch 36/100\n",
      "12418/12418 [==============================] - 1s 74us/step - loss: 37.4966 - mae: 4.7723 - val_loss: 36.8143 - val_mae: 4.6919\n",
      "Epoch 37/100\n",
      "12418/12418 [==============================] - 1s 77us/step - loss: 36.3892 - mae: 4.6621 - val_loss: 57.3427 - val_mae: 6.1872\n",
      "Epoch 38/100\n",
      "12418/12418 [==============================] - 1s 77us/step - loss: 36.3656 - mae: 4.6846 - val_loss: 42.7260 - val_mae: 5.2103\n",
      "Epoch 39/100\n",
      "12418/12418 [==============================] - 1s 72us/step - loss: 34.9732 - mae: 4.5756 - val_loss: 31.5310 - val_mae: 4.3551\n",
      "Epoch 40/100\n",
      "12418/12418 [==============================] - 1s 79us/step - loss: 36.2477 - mae: 4.6570 - val_loss: 36.2518 - val_mae: 4.6925\n",
      "Epoch 41/100\n",
      "12418/12418 [==============================] - 1s 78us/step - loss: 38.8547 - mae: 4.8501 - val_loss: 84.6819 - val_mae: 7.7416\n",
      "Epoch 42/100\n",
      "12418/12418 [==============================] - 1s 79us/step - loss: 38.1811 - mae: 4.7779 - val_loss: 36.4174 - val_mae: 4.7278\n",
      "Epoch 43/100\n",
      "12418/12418 [==============================] - 1s 78us/step - loss: 35.0990 - mae: 4.5806 - val_loss: 51.8917 - val_mae: 5.8079\n",
      "Epoch 44/100\n",
      "12418/12418 [==============================] - 1s 75us/step - loss: 34.3839 - mae: 4.5119 - val_loss: 39.3563 - val_mae: 4.7996\n",
      "Epoch 45/100\n",
      "12418/12418 [==============================] - 1s 68us/step - loss: 38.0903 - mae: 4.7807 - val_loss: 45.4175 - val_mae: 5.4409\n",
      "Epoch 46/100\n",
      "12418/12418 [==============================] - 1s 66us/step - loss: 36.4727 - mae: 4.6880 - val_loss: 31.2877 - val_mae: 4.2982\n",
      "Epoch 47/100\n",
      "12418/12418 [==============================] - 1s 69us/step - loss: 33.6217 - mae: 4.4697 - val_loss: 57.7594 - val_mae: 6.1973\n",
      "Epoch 48/100\n",
      "12418/12418 [==============================] - 1s 68us/step - loss: 33.9960 - mae: 4.4843 - val_loss: 28.4326 - val_mae: 4.0870\n",
      "Epoch 49/100\n",
      "12418/12418 [==============================] - 1s 67us/step - loss: 31.9696 - mae: 4.3464 - val_loss: 35.1005 - val_mae: 4.6611\n",
      "Epoch 50/100\n",
      "12418/12418 [==============================] - 1s 70us/step - loss: 36.0551 - mae: 4.6335 - val_loss: 37.0090 - val_mae: 4.8368\n",
      "Epoch 51/100\n",
      "12418/12418 [==============================] - 1s 67us/step - loss: 33.1240 - mae: 4.4524 - val_loss: 32.4811 - val_mae: 4.4358\n",
      "Epoch 52/100\n",
      "12418/12418 [==============================] - 1s 66us/step - loss: 32.4747 - mae: 4.4165 - val_loss: 45.1493 - val_mae: 5.4711\n",
      "Epoch 53/100\n",
      "12418/12418 [==============================] - 1s 71us/step - loss: 31.8291 - mae: 4.3481 - val_loss: 41.3658 - val_mae: 5.1098\n",
      "Epoch 54/100\n",
      "12418/12418 [==============================] - 1s 68us/step - loss: 32.8689 - mae: 4.4297 - val_loss: 27.3654 - val_mae: 3.9995\n",
      "Epoch 55/100\n",
      "12418/12418 [==============================] - 1s 69us/step - loss: 32.0493 - mae: 4.3657 - val_loss: 42.0271 - val_mae: 5.2181\n",
      "Epoch 56/100\n",
      "12418/12418 [==============================] - 1s 70us/step - loss: 31.2423 - mae: 4.3251 - val_loss: 66.2721 - val_mae: 6.7625\n",
      "Epoch 57/100\n"
     ]
    },
    {
     "name": "stdout",
     "output_type": "stream",
     "text": [
      "12418/12418 [==============================] - 1s 69us/step - loss: 31.7577 - mae: 4.3286 - val_loss: 37.1946 - val_mae: 4.8813\n",
      "Epoch 58/100\n",
      "12418/12418 [==============================] - 1s 65us/step - loss: 32.1162 - mae: 4.3727 - val_loss: 27.6726 - val_mae: 4.0588\n",
      "Epoch 59/100\n",
      "12418/12418 [==============================] - 1s 70us/step - loss: 29.3868 - mae: 4.1856 - val_loss: 56.1067 - val_mae: 6.1745\n",
      "Epoch 60/100\n",
      "12418/12418 [==============================] - 1s 66us/step - loss: 32.9889 - mae: 4.4415 - val_loss: 34.8642 - val_mae: 4.6197\n",
      "Epoch 61/100\n",
      "12418/12418 [==============================] - 1s 65us/step - loss: 30.4211 - mae: 4.2686 - val_loss: 36.0018 - val_mae: 4.7155\n",
      "Epoch 62/100\n",
      "12418/12418 [==============================] - 1s 68us/step - loss: 30.8060 - mae: 4.2875 - val_loss: 35.1194 - val_mae: 4.6799\n",
      "Epoch 63/100\n",
      "12418/12418 [==============================] - 1s 67us/step - loss: 31.2524 - mae: 4.3145 - val_loss: 29.1314 - val_mae: 4.1876\n",
      "Epoch 64/100\n",
      "12418/12418 [==============================] - 1s 64us/step - loss: 30.5517 - mae: 4.2550 - val_loss: 27.4407 - val_mae: 4.0021\n",
      "Epoch 65/100\n",
      "12418/12418 [==============================] - 1s 69us/step - loss: 31.5659 - mae: 4.3256 - val_loss: 30.2872 - val_mae: 4.2490\n",
      "Epoch 66/100\n",
      "12418/12418 [==============================] - 1s 67us/step - loss: 32.3963 - mae: 4.3985 - val_loss: 44.7616 - val_mae: 5.2146\n",
      "Epoch 67/100\n",
      "12418/12418 [==============================] - 1s 68us/step - loss: 29.9757 - mae: 4.1959 - val_loss: 28.9570 - val_mae: 4.1678\n",
      "Epoch 68/100\n",
      "12418/12418 [==============================] - 1s 66us/step - loss: 28.5137 - mae: 4.0919 - val_loss: 64.2593 - val_mae: 6.4403\n",
      "Epoch 69/100\n",
      "12418/12418 [==============================] - 1s 67us/step - loss: 29.4684 - mae: 4.1768 - val_loss: 35.3546 - val_mae: 4.6200\n",
      "Epoch 70/100\n",
      "12418/12418 [==============================] - 1s 67us/step - loss: 29.9045 - mae: 4.2202 - val_loss: 35.2659 - val_mae: 4.6051\n",
      "Epoch 71/100\n",
      "12418/12418 [==============================] - 1s 67us/step - loss: 27.9921 - mae: 4.0669 - val_loss: 49.4999 - val_mae: 5.8531\n",
      "Epoch 72/100\n",
      "12418/12418 [==============================] - 1s 69us/step - loss: 29.8897 - mae: 4.2096 - val_loss: 38.3437 - val_mae: 4.9350\n",
      "Epoch 73/100\n",
      "12418/12418 [==============================] - 1s 68us/step - loss: 28.9625 - mae: 4.1368 - val_loss: 29.7420 - val_mae: 4.2241\n",
      "Epoch 74/100\n",
      "12418/12418 [==============================] - 1s 67us/step - loss: 28.0686 - mae: 4.0758 - val_loss: 27.2735 - val_mae: 4.0522\n",
      "Epoch 75/100\n",
      "12418/12418 [==============================] - 1s 71us/step - loss: 28.3878 - mae: 4.0991 - val_loss: 24.5669 - val_mae: 3.8062\n",
      "Epoch 76/100\n",
      "12418/12418 [==============================] - 1s 69us/step - loss: 28.5455 - mae: 4.0927 - val_loss: 27.0493 - val_mae: 4.0118\n",
      "Epoch 77/100\n",
      "12418/12418 [==============================] - 1s 70us/step - loss: 27.6873 - mae: 4.0480 - val_loss: 27.1006 - val_mae: 4.0113\n",
      "Epoch 78/100\n",
      "12418/12418 [==============================] - 1s 66us/step - loss: 27.7839 - mae: 4.0400 - val_loss: 27.1488 - val_mae: 4.0259\n",
      "Epoch 79/100\n",
      "12418/12418 [==============================] - 1s 68us/step - loss: 27.4416 - mae: 4.0244 - val_loss: 26.6920 - val_mae: 3.9806\n",
      "Epoch 80/100\n",
      "12418/12418 [==============================] - 1s 70us/step - loss: 27.0694 - mae: 3.9998 - val_loss: 34.7682 - val_mae: 4.6602\n",
      "Epoch 81/100\n",
      "12418/12418 [==============================] - 1s 67us/step - loss: 27.5251 - mae: 4.0328 - val_loss: 77.1939 - val_mae: 7.3753\n",
      "Epoch 82/100\n",
      "12418/12418 [==============================] - 1s 69us/step - loss: 29.7147 - mae: 4.1833 - val_loss: 25.1262 - val_mae: 3.8824\n",
      "Epoch 83/100\n",
      "12418/12418 [==============================] - 1s 70us/step - loss: 26.8439 - mae: 3.9772 - val_loss: 25.8577 - val_mae: 3.8364\n",
      "Epoch 84/100\n",
      "12418/12418 [==============================] - 1s 69us/step - loss: 27.4972 - mae: 4.0414 - val_loss: 27.7843 - val_mae: 4.1254\n",
      "Epoch 85/100\n",
      "12418/12418 [==============================] - 1s 66us/step - loss: 26.2657 - mae: 3.9353 - val_loss: 36.2343 - val_mae: 4.7075\n",
      "Epoch 86/100\n",
      "12418/12418 [==============================] - 1s 70us/step - loss: 26.6850 - mae: 3.9618 - val_loss: 24.3659 - val_mae: 3.7825\n",
      "Epoch 87/100\n",
      "12418/12418 [==============================] - 1s 69us/step - loss: 27.3322 - mae: 4.0098 - val_loss: 31.9774 - val_mae: 4.4878\n",
      "Epoch 88/100\n",
      "12418/12418 [==============================] - 1s 66us/step - loss: 27.6780 - mae: 4.0411 - val_loss: 29.1230 - val_mae: 4.2398\n",
      "Epoch 89/100\n",
      "12418/12418 [==============================] - 1s 70us/step - loss: 25.7793 - mae: 3.8983 - val_loss: 29.5967 - val_mae: 4.2854\n",
      "Epoch 90/100\n",
      "12418/12418 [==============================] - 1s 69us/step - loss: 24.9027 - mae: 3.8303 - val_loss: 46.8398 - val_mae: 5.5382\n",
      "Epoch 91/100\n",
      "12418/12418 [==============================] - 1s 70us/step - loss: 27.0051 - mae: 3.9884 - val_loss: 35.5477 - val_mae: 4.7073\n",
      "Epoch 92/100\n",
      "12418/12418 [==============================] - 1s 66us/step - loss: 25.6118 - mae: 3.8878 - val_loss: 52.5573 - val_mae: 5.9727\n",
      "Epoch 93/100\n",
      "12418/12418 [==============================] - 1s 70us/step - loss: 26.4428 - mae: 3.9365 - val_loss: 24.5295 - val_mae: 3.8371\n",
      "Epoch 94/100\n",
      "12418/12418 [==============================] - 1s 68us/step - loss: 26.3172 - mae: 3.9403 - val_loss: 41.9599 - val_mae: 5.2333\n",
      "Epoch 95/100\n",
      "12418/12418 [==============================] - 1s 65us/step - loss: 25.8213 - mae: 3.8964 - val_loss: 23.4019 - val_mae: 3.7331\n",
      "Epoch 96/100\n",
      "12418/12418 [==============================] - 1s 69us/step - loss: 25.6656 - mae: 3.8939 - val_loss: 27.0236 - val_mae: 4.0338\n",
      "Epoch 97/100\n",
      "12418/12418 [==============================] - 1s 68us/step - loss: 26.3975 - mae: 3.9527 - val_loss: 27.5589 - val_mae: 4.0402\n",
      "Epoch 98/100\n",
      "12418/12418 [==============================] - 1s 70us/step - loss: 24.9899 - mae: 3.8372 - val_loss: 48.7269 - val_mae: 5.7745\n",
      "Epoch 99/100\n",
      "12418/12418 [==============================] - 1s 67us/step - loss: 26.4526 - mae: 3.9341 - val_loss: 24.9211 - val_mae: 3.7994\n",
      "Epoch 100/100\n",
      "12418/12418 [==============================] - 1s 70us/step - loss: 25.0869 - mae: 3.8554 - val_loss: 31.2516 - val_mae: 4.4655\n"
     ]
    }
   ],
   "source": [
    "history = model.fit(x_train,y_train,epochs=100,batch_size=32,validation_split=0.3, verbose=1)"
   ]
  },
  {
   "cell_type": "code",
   "execution_count": 10,
   "metadata": {},
   "outputs": [
    {
     "name": "stdout",
     "output_type": "stream",
     "text": [
      "yhat= (7604, 1)\n",
      "average yield= 36.269806\n"
     ]
    }
   ],
   "source": [
    "yhat1=model.predict(x_test)\n",
    "avg_yield=np.mean(yhat1)\n",
    "print(\"yhat=\",yhat1.shape)\n",
    "print(\"average yield=\",avg_yield)"
   ]
  },
  {
   "cell_type": "code",
   "execution_count": 11,
   "metadata": {},
   "outputs": [
    {
     "name": "stdout",
     "output_type": "stream",
     "text": [
      "Test mse= 32.374886485136784\n",
      "Test rmse= 5.689893363248276\n",
      "Test mae= 4.5062538194756705\n"
     ]
    }
   ],
   "source": [
    "mse=np.mean(np.square(y_test-yhat1))\n",
    "rmse=np.sqrt(np.mean(np.square(y_test-yhat1)))\n",
    "mae=np.mean(abs(y_test-yhat1))\n",
    "print(\"Test mse=\",mse)\n",
    "print(\"Test rmse=\",rmse)\n",
    "print(\"Test mae=\",mae)\n"
   ]
  },
  {
   "cell_type": "code",
   "execution_count": 12,
   "metadata": {},
   "outputs": [
    {
     "name": "stdout",
     "output_type": "stream",
     "text": [
      "yhat= (17741, 1)\n"
     ]
    }
   ],
   "source": [
    "yhat2=model.predict(x_train)\n",
    "print(\"yhat=\",yhat2.shape)"
   ]
  },
  {
   "cell_type": "code",
   "execution_count": 13,
   "metadata": {},
   "outputs": [
    {
     "name": "stdout",
     "output_type": "stream",
     "text": [
      "train mse= 30.274459490025272\n",
      "train rmse= 5.502223140697337\n",
      "train mae= 4.37689132394775\n"
     ]
    }
   ],
   "source": [
    "mse=np.mean(np.square(y_train-yhat2))\n",
    "rmse=np.sqrt(np.mean(np.square(y_train-yhat2)))\n",
    "mae=np.mean(abs(y_train-yhat2))\n",
    "print(\"train mse=\",mse)\n",
    "print(\"train rmse=\",rmse)\n",
    "print(\"train mae=\",mae)\n"
   ]
  },
  {
   "cell_type": "code",
   "execution_count": 14,
   "metadata": {},
   "outputs": [
    {
     "name": "stdout",
     "output_type": "stream",
     "text": [
      "17741/17741 [==============================] - 0s 19us/step\n",
      "train score: [30.274459394847693, 4.376893043518066]\n",
      "7604/7604 [==============================] - 0s 20us/step\n",
      "test score: [32.37488616509917, 4.506254196166992]\n"
     ]
    }
   ],
   "source": [
    "s=model.evaluate(x_train,y_train)\n",
    "print(\"train score:\",s)\n",
    "\n",
    "st=model.evaluate(x_test,y_test)\n",
    "print(\"test score:\",st)"
   ]
  },
  {
   "cell_type": "code",
   "execution_count": 15,
   "metadata": {},
   "outputs": [
    {
     "name": "stdout",
     "output_type": "stream",
     "text": [
      "r^2 test score: 0.7354187954781959\n",
      "r^2 train score: 0.7507549768816193\n"
     ]
    }
   ],
   "source": [
    "from sklearn.metrics import r2_score\n",
    "print(\"r^2 test score:\",r2_score(y_test,yhat1))\n",
    "print(\"r^2 train score:\",r2_score(y_train,yhat2))"
   ]
  },
  {
   "cell_type": "code",
   "execution_count": 16,
   "metadata": {},
   "outputs": [
    {
     "data": {
      "image/png": "[encoded data removed]",
      "text/plain": [
       "<Figure size 432x288 with 1 Axes>"
      ]
     },
     "metadata": {
      "needs_background": "light"
     },
     "output_type": "display_data"
    }
   ],
   "source": [
    "import matplotlib.pyplot as plt\n",
    "plt.plot(history.history['loss'])\n",
    "plt.plot(history.history['val_loss'])\n",
    "plt.title('model loss')\n",
    "plt.ylabel('loss')\n",
    "plt.xlabel('epoch')\n",
    "plt.legend(['train', 'test'], loc='upper left')\n",
    "plt.show()\n"
   ]
  }
 ],
 "metadata": {
  "kernelspec": {
   "display_name": "Python 3",
   "language": "python",
   "name": "python3"
  },
  "language_info": {
   "codemirror_mode": {
    "name": "ipython",
    "version": 3
   },
   "file_extension": ".py",
   "mimetype": "text/x-python",
   "name": "python",
   "nbconvert_exporter": "python",
   "pygments_lexer": "ipython3",
   "version": "3.7.6"
  }
 },
 "nbformat": 4,
 "nbformat_minor": 4
}
